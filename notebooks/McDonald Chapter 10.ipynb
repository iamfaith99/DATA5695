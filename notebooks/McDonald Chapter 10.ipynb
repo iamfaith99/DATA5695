{
 "cells": [
  {
   "cell_type": "markdown",
   "metadata": {},
   "source": [
    "## One-Period Binomial Option Pricing Algorithm"
   ]
  },
  {
   "cell_type": "code",
   "execution_count": 18,
   "metadata": {},
   "outputs": [],
   "source": [
    "import numpy as np"
   ]
  },
  {
   "cell_type": "code",
   "execution_count": 19,
   "metadata": {},
   "outputs": [],
   "source": [
    "def call_payoff(spot, strike):\n",
    "    return np.maximum(spot - strike, 0.0)\n"
   ]
  },
  {
   "cell_type": "code",
   "execution_count": 20,
   "metadata": {},
   "outputs": [],
   "source": [
    "def put_payoff(spot, strike):\n",
    "    return np.maximum(strike - spot, 0.0)"
   ]
  },
  {
   "cell_type": "markdown",
   "metadata": {},
   "source": [
    "### Step 0: Gather Data & Initialize Variables"
   ]
  },
  {
   "cell_type": "code",
   "execution_count": 21,
   "metadata": {},
   "outputs": [],
   "source": [
    "# Problem setup\n",
    "S = 41.0\n",
    "K = 40.0\n",
    "r = 0.08\n",
    "q = 0.0 \n",
    "v = 0.30\n",
    "h = 1.0"
   ]
  },
  {
   "cell_type": "markdown",
   "metadata": {},
   "source": [
    "### Step 1: Build the Forward Tree"
   ]
  },
  {
   "cell_type": "code",
   "execution_count": 22,
   "metadata": {},
   "outputs": [],
   "source": [
    "u = np.exp((r - q)*h + v*np.sqrt(h))\n",
    "d = np.exp((r - q)*h - v*np.sqrt(h))"
   ]
  },
  {
   "cell_type": "code",
   "execution_count": 23,
   "metadata": {},
   "outputs": [
    {
     "data": {
      "text/plain": [
       "(np.float64(1.4622845894342245), np.float64(0.8025187979624785))"
      ]
     },
     "execution_count": 23,
     "metadata": {},
     "output_type": "execute_result"
    }
   ],
   "source": [
    "u, d"
   ]
  },
  {
   "cell_type": "code",
   "execution_count": 24,
   "metadata": {},
   "outputs": [
    {
     "data": {
      "text/plain": [
       "(np.float64(59.953668166803205), np.float64(32.90327071646162))"
      ]
     },
     "execution_count": 24,
     "metadata": {},
     "output_type": "execute_result"
    }
   ],
   "source": [
    "Su, Sd = u*S, d*S\n",
    "Su, Sd"
   ]
  },
  {
   "cell_type": "markdown",
   "metadata": {},
   "source": [
    "### Step 2: Apply the Payoff Function (Boundary Condition)"
   ]
  },
  {
   "cell_type": "code",
   "execution_count": 9,
   "metadata": {},
   "outputs": [
    {
     "data": {
      "text/plain": [
       "(np.float64(19.953668166803205), np.float64(0.0))"
      ]
     },
     "execution_count": 9,
     "metadata": {},
     "output_type": "execute_result"
    }
   ],
   "source": [
    "Cu = call_payoff(Su, K)\n",
    "Cd = call_payoff(Sd, K)\n",
    "Cu, Cd"
   ]
  },
  {
   "cell_type": "markdown",
   "metadata": {},
   "source": [
    "### Step 3: Solve, for $\\Delta$, $B$, and $C_{0}$"
   ]
  },
  {
   "cell_type": "code",
   "execution_count": 25,
   "metadata": {},
   "outputs": [
    {
     "data": {
      "text/plain": [
       "(np.float64(7.838580426945477),\n",
       " np.float64(0.7376478738781428),\n",
       " np.float64(-22.404982402058376))"
      ]
     },
     "execution_count": 25,
     "metadata": {},
     "output_type": "execute_result"
    }
   ],
   "source": [
    "D = (Cu - Cd) / (Su - Sd)\n",
    "B = np.exp(-r*h) * ((u*Cd - d*Cu) / (u - d))\n",
    "C = S*D + B\n",
    "C, D, B"
   ]
  },
  {
   "cell_type": "markdown",
   "metadata": {},
   "source": [
    "Equivalently, we can solve $p^{\\ast}$ and use the risk-neutral approach.\n",
    "\n",
    "<br>\n",
    "\n",
    "$$\n",
    "C_{0} = e^{-rh} \\left(p^{\\ast} \\times C_{u} + (1 - p^{\\ast}) \\times C_{d}\\right)\n",
    "$$\n",
    "\n",
    "<br>"
   ]
  },
  {
   "cell_type": "code",
   "execution_count": 17,
   "metadata": {},
   "outputs": [
    {
     "data": {
      "text/plain": [
       "np.float64(7.838580426945479)"
      ]
     },
     "execution_count": 17,
     "metadata": {},
     "output_type": "execute_result"
    }
   ],
   "source": [
    "p_star = (np.exp(r - q)*h - d) / (u - d)\n",
    "C = np.exp(-r*h) * (Cu*p_star + Cd*(1.0 - p_star))\n",
    "C"
   ]
  },
  {
   "cell_type": "markdown",
   "metadata": {},
   "source": [
    "## Pricing the Equivalent Put Option\n",
    "\n",
    "**NB:** the only thing we have to do is substitute the put payoff function in step 2. "
   ]
  },
  {
   "cell_type": "code",
   "execution_count": 12,
   "metadata": {},
   "outputs": [
    {
     "data": {
      "text/plain": [
       "(np.float64(0.0), np.float64(7.09672928353838))"
      ]
     },
     "execution_count": 12,
     "metadata": {},
     "output_type": "execute_result"
    }
   ],
   "source": [
    "Pu = put_payoff(Su, K)\n",
    "Pd = put_payoff(Sd, K)\n",
    "Pu, Pd"
   ]
  },
  {
   "cell_type": "code",
   "execution_count": 13,
   "metadata": {},
   "outputs": [
    {
     "data": {
      "text/plain": [
       "(np.float64(3.7632342824109077),\n",
       " np.float64(-0.2623521261218572),\n",
       " np.float64(14.519671453407053))"
      ]
     },
     "execution_count": 13,
     "metadata": {},
     "output_type": "execute_result"
    }
   ],
   "source": [
    "D = (Pu - Pd) / (Su - Sd)\n",
    "B = np.exp(-r*h) * ((u*Pd - d*Pu) / (u - d))\n",
    "P = S*D + B\n",
    "P, D, B"
   ]
  },
  {
   "cell_type": "markdown",
   "metadata": {},
   "source": [
    "**NB:** we can verify this with put-call parity.\n",
    "\n",
    "<br>\n",
    "\n",
    "$$\n",
    "C(T,K) - P(T,K) = e^{-rh}(F_{0,T} - K)\n",
    "$$\n",
    "\n",
    "which when we solve for $P(T,K)$ gives us:\n",
    "\n",
    "$$\n",
    "P(T,K) = C(T,K) - e^{-rh}(F_{0,T} - K)\n",
    "$$"
   ]
  },
  {
   "cell_type": "code",
   "execution_count": 15,
   "metadata": {},
   "outputs": [
    {
     "data": {
      "text/plain": [
       "np.float64(3.763234282410906)"
      ]
     },
     "execution_count": 15,
     "metadata": {},
     "output_type": "execute_result"
    }
   ],
   "source": [
    "F = S*np.exp(r*h)\n",
    "C - np.exp(-r*h)*(F - K)"
   ]
  },
  {
   "cell_type": "markdown",
   "metadata": {},
   "source": [
    "## Pricing an American Call in the One-Period Model"
   ]
  },
  {
   "cell_type": "code",
   "execution_count": 16,
   "metadata": {},
   "outputs": [
    {
     "data": {
      "text/plain": [
       "np.float64(7.838580426945477)"
      ]
     },
     "execution_count": 16,
     "metadata": {},
     "output_type": "execute_result"
    }
   ],
   "source": [
    "C_am = np.maximum(C, call_payoff(S, K))\n",
    "C_am"
   ]
  }
 ],
 "metadata": {
  "kernelspec": {
   "display_name": "anaconda-toolbox",
   "language": "python",
   "name": "python3"
  },
  "language_info": {
   "codemirror_mode": {
    "name": "ipython",
    "version": 3
   },
   "file_extension": ".py",
   "mimetype": "text/x-python",
   "name": "python",
   "nbconvert_exporter": "python",
   "pygments_lexer": "ipython3",
   "version": "3.12.8"
  }
 },
 "nbformat": 4,
 "nbformat_minor": 2
}
